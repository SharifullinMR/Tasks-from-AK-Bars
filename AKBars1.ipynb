{
 "cells": [
  {
   "cell_type": "code",
   "execution_count": null,
   "id": "1fb8b498",
   "metadata": {},
   "outputs": [],
   "source": [
    "import pandas as pd\n",
    "\n",
    "# Загрузка нашего датасета\n",
    "''' Названия столбцов, их тип данных и смысл привёл в другом, втором файле\n",
    "Прочесть.txt\n",
    "'''\n",
    "\n",
    "df = pd.read_csv(\"clients.csv\")"
   ]
  },
  {
   "cell_type": "code",
   "execution_count": null,
   "id": "e1b13c6c",
   "metadata": {},
   "outputs": [],
   "source": [
    "# 1. Найти  количество неактивных клиентов с балансом > 100000\n",
    "clients_inactive = df[(df[\"active_flag\"] == False) & (df[\"balance\"] > 100000)].shape[0]\n",
    "print(\"Неактивных клиентов с балансом > 100000:\", clients_inactive)"
   ]
  },
  {
   "cell_type": "code",
   "execution_count": null,
   "id": "3aab3404",
   "metadata": {},
   "outputs": [],
   "source": [
    "# 2. Средний кредитный рейтинг в разрезе стран\n",
    "avg_rating = df.groupby(\"country\")[\"rating\"].mean()\n",
    "print(\"Средний рейтинг по странам:\", avg_rating)"
   ]
  },
  {
   "cell_type": "code",
   "execution_count": null,
   "id": "33f6ff05",
   "metadata": {},
   "outputs": [],
   "source": [
    "# 3. Посчитать процент ушедших клиентов в разрезе типов карт\n",
    "percent_leave = (\n",
    "    df.groupby(\"card_type\")[\"leave_client\"]\n",
    "    .apply(lambda x: (x.sum() / len(x)) * 100))\n",
    "print(\"Процент ушедших по типу карты (%):\", percent_leave)"
   ]
  },
  {
   "cell_type": "code",
   "execution_count": null,
   "id": "9d23b3c9",
   "metadata": {},
   "outputs": [],
   "source": [
    "# 4. Сравнить зарплату клиента со средней зарплатой по его стране\n",
    "df[\"avg_salary_country\"] = df.groupby(\"country\")[\"salary\"].transform(\"mean\")\n",
    "df[\"diff_salary\"] = df[\"salary\"] - df[\"avg_salary_country\"]\n",
    "\n",
    "print(\"Сравнение зарплаты клиента со средней по стране:\")\n",
    "# выведу первые 5 строк\n",
    "print(df[[\"id_client\",\"country\",\"salary\",\"avg_salary_country\",\"diff_salary\"]].head())\n"
   ]
  },
  {
   "cell_type": "code",
   "execution_count": null,
   "id": "4bfa084d",
   "metadata": {},
   "outputs": [],
   "source": [
    "# 5. Найти страны, в которых в топ-10 по зарплатам женщин больше , чем мужчин\n",
    "women_top = df[df[\"gender\"]==False].groupby(\"country\")[\"salary\"].nlargest(10).reset_index()\n",
    "men_top   = df[df[\"gender\"]==True].groupby(\"country\")[\"salary\"].nlargest(10).reset_index()\n",
    "\n",
    "countries = []\n",
    "for c in set(women_top[\"country\"]):\n",
    "    w_salary = women_top[women_top[\"country\"]==c][\"salary\"].tolist()\n",
    "    m_salary = men_top[men_top[\"country\"]==c][\"salary\"].tolist()\n",
    "    if len(w_salary) == 10 and len(m_salary) == 10:\n",
    "        #сравнение у кого больше зарплат в топе. Если у женщин больше половины(>5) добавляем страну в список.\n",
    "        if sum(w > m for w, m in zip(sorted(w_salary, reverse=True), \n",
    "                                     sorted(m_salary, reverse=True))) > 5:\n",
    "            countries.append(c)\n",
    "\n",
    "print(\"Страны, где у женщин в топ-10 зарплат больше, чем у мужчин:\", countries)"
   ]
  },
  {
   "cell_type": "code",
   "execution_count": null,
   "id": "f364f8a1",
   "metadata": {},
   "outputs": [],
   "source": [
    "# 6. Найти страны, в которых используются не все возможные типы карт\n",
    "all_cards = set(df[\"card_type\"].unique())\n",
    "countries_skips = [c for c, group in df.groupby(\"country\")\n",
    "    if set(group[\"card_type\"].unique()) != all_cards\n",
    "]\n",
    "print(\"Страны с неполным набором типов карт:\", countries_skips)\n",
    "\n"
   ]
  }
 ],
 "metadata": {
  "language_info": {
   "name": "python"
  }
 },
 "nbformat": 4,
 "nbformat_minor": 5
}
